{
  "nbformat": 4,
  "nbformat_minor": 0,
  "metadata": {
    "colab": {
      "name": "Handwritten Digit Recgonition .ipynb",
      "provenance": []
    },
    "kernelspec": {
      "name": "python3",
      "display_name": "Python 3"
    },
    "language_info": {
      "name": "python"
    }
  },
  "cells": [
    {
      "cell_type": "code",
      "execution_count": null,
      "metadata": {
        "id": "qdws7Jdxxyl4"
      },
      "outputs": [],
      "source": [
        "import tensorflow as tf                             \n",
        "from matplotlib import pyplot as plt                        \n",
        "import numpy as np"
      ]
    },
    {
      "cell_type": "code",
      "source": [
        "from keras.datasets import mnist\n",
        "objects=mnist\n",
        "(train_img,train_lab),(test_img,test_lab)=objects.load_data()"
      ],
      "metadata": {
        "id": "aKDKoKQkyt60"
      },
      "execution_count": null,
      "outputs": []
    },
    {
      "cell_type": "code",
      "source": [
        "Using TensorFlow backend.\n",
        "Downloading data from https://s3.amazonaws.com/img-datasets/mnist.npz\n",
        "11493376/11490434 [==============================] - 0s 0us/step"
      ],
      "metadata": {
        "id": "a3re7gN-yt9f"
      },
      "execution_count": null,
      "outputs": []
    },
    {
      "cell_type": "code",
      "source": [
        "for i in range(20):\n",
        "  plt.subplot(4,5,i+1)\n",
        "  plt.imshow(train_img[i],cmap='gray_r')\n",
        "  plt.title(\"Digit : {}\".format(train_lab[i]))\n",
        "  plt.subplots_adjust(hspace=0.5)\n",
        "  plt.axis('off')"
      ],
      "metadata": {
        "id": "FrEdVX4GyuCD"
      },
      "execution_count": null,
      "outputs": []
    },
    {
      "cell_type": "code",
      "source": [
        "print('Training images shape : ',train_img.shape)\n",
        "print('Testing images shape : ',test_img.shape)"
      ],
      "metadata": {
        "id": "HS5na3QnyuEq"
      },
      "execution_count": null,
      "outputs": []
    },
    {
      "cell_type": "code",
      "source": [
        "print('How image looks like : ')\n",
        "print(train_img[0])"
      ],
      "metadata": {
        "id": "ih4VK5a_yuKP"
      },
      "execution_count": null,
      "outputs": []
    },
    {
      "cell_type": "code",
      "source": [
        "plt.hist(train_img[0].reshape(784),facecolor='orange')\n",
        "plt.title('Pixel vs its intensity',fontsize=16)\n",
        "plt.ylabel('PIXEL')\n",
        "plt.xlabel('Intensity')"
      ],
      "metadata": {
        "id": "VBLF8kO7yuNV"
      },
      "execution_count": null,
      "outputs": []
    },
    {
      "cell_type": "code",
      "source": [
        "train_img=train_img/255.0\n",
        "test_img=test_img/255.0"
      ],
      "metadata": {
        "id": "-RJqU1UCyuPp"
      },
      "execution_count": null,
      "outputs": []
    },
    {
      "cell_type": "code",
      "source": [
        "print('How image looks like after normalising: ')\n",
        "print(train_img[0])"
      ],
      "metadata": {
        "id": "k22UdTQbyuRf"
      },
      "execution_count": null,
      "outputs": []
    },
    {
      "cell_type": "code",
      "source": [
        "plt.hist(train_img[0].reshape(784),facecolor='orange')\n",
        "plt.title('Pixel vs its intensity',fontsize=16)\n",
        "plt.ylabel('PIXEL')\n",
        "plt.xlabel('Intensity')"
      ],
      "metadata": {
        "id": "7I0SVwJ1zcAo"
      },
      "execution_count": null,
      "outputs": []
    },
    {
      "cell_type": "code",
      "source": [
        "from keras.models import Sequential\n",
        "from keras.layers import Flatten,Dense\n",
        "model=Sequential()\n",
        "input_layer= Flatten(input_shape=(28,28))\n",
        "model.add(input_layer)\n",
        "hidden_layer1=Dense(512,activation='relu')\n",
        "model.add(hidden_layer1)\n",
        "hidden_layer2=Dense(512,activation='relu')\n",
        "model.add(hidden_layer2)\n",
        "output_layer=Dense(10,activation='softmax')\n",
        "model.add(output_layer)"
      ],
      "metadata": {
        "id": "1Js5G0SgzcDC"
      },
      "execution_count": null,
      "outputs": []
    },
    {
      "cell_type": "code",
      "source": [
        "#compiling the sequential model\n",
        "model.compile(optimizer = 'adam', \n",
        "              loss = 'sparse_categorical_crossentropy', \n",
        "              metrics=['accuracy'])"
      ],
      "metadata": {
        "id": "R108jbgqzcFn"
      },
      "execution_count": null,
      "outputs": []
    },
    {
      "cell_type": "code",
      "source": [
        "model.fit(train_img,train_lab,epochs=100)"
      ],
      "metadata": {
        "id": "Z-Y06bOVzcIJ"
      },
      "execution_count": null,
      "outputs": []
    },
    {
      "cell_type": "code",
      "source": [
        "model.save('project.h5')"
      ],
      "metadata": {
        "id": "-QgSE-B9zcKg"
      },
      "execution_count": null,
      "outputs": []
    },
    {
      "cell_type": "code",
      "source": [
        "loss_and_acc=model.evaluate(test_img,test_lab,verbose=2)\n",
        "print(\"Test Loss\", loss_and_acc[0])\n",
        "print(\"Test Accuracy\", loss_and_acc[1])"
      ],
      "metadata": {
        "id": "MhuvrK53zcM3"
      },
      "execution_count": null,
      "outputs": []
    },
    {
      "cell_type": "code",
      "source": [
        "plt.imshow(test_img[0],cmap='gray_r')\n",
        "plt.title('Actual Value: {}'.format(test_lab[0]))\n",
        "prediction=model.predict(test_img)\n",
        "plt.axis('off')\n",
        "print('Predicted Value: ',np.argmax(prediction[0]))\n",
        "if(test_lab[0]==(np.argmax(prediction[0]))):\n",
        "  print('Successful prediction')\n",
        "else:\n",
        "  print('Unsuccessful prediction')"
      ],
      "metadata": {
        "id": "Mm6V9FpSzcP3"
      },
      "execution_count": null,
      "outputs": []
    },
    {
      "cell_type": "code",
      "source": [
        "plt.imshow(test_img[1],cmap='gray_r')\n",
        "plt.title('Actual Value: {}'.format(test_lab[1]))\n",
        "prediction=model.predict(test_img)\n",
        "plt.axis('off')\n",
        "print('Predicted Value: ',np.argmax(prediction[1]))\n",
        "if(test_lab[1]==(np.argmax(prediction[1]))):\n",
        "  print('Successful prediction')\n",
        "else:\n",
        "  print('Unsuccessful prediction')"
      ],
      "metadata": {
        "id": "w3PWd9WlzcSl"
      },
      "execution_count": null,
      "outputs": []
    },
    {
      "cell_type": "code",
      "source": [
        "plt.imshow(test_img[2],cmap='gray_r')\n",
        "plt.title('Actual Value: {}'.format(test_lab[2]))\n",
        "prediction=model.predict(test_img)\n",
        "plt.axis('off')\n",
        "print('Predicted Value: ',np.argmax(prediction[2]))\n",
        "if(test_lab[2]==(np.argmax(prediction[2]))):\n",
        "  print('Successful prediction')\n",
        "else:\n",
        "  print('Unsuccessful prediction')"
      ],
      "metadata": {
        "id": "t0tENkxnyuVA"
      },
      "execution_count": null,
      "outputs": []
    },
    {
      "cell_type": "code",
      "source": [
        "# make a prediction for a new image.\n",
        "from keras.preprocessing.image import load_img\n",
        "from keras.preprocessing.image import img_to_array\n",
        "from keras.models import load_model\n",
        " \n",
        "# load and prepare the image\n",
        "def load_image(filename):\n",
        "\t# load the image\n",
        "\timg = load_img(filename, grayscale=True, target_size=(28, 28))\n",
        "\t# convert to array\n",
        "\timg = img_to_array(img)\n",
        "\t# reshape into a single sample with 1 channel\n",
        "\timg = img.reshape(1, 28, 28)\n",
        "\t# prepare pixel data\n",
        "\timg = img.astype('float32')\n",
        "\timg = img / 255.0\n",
        "\treturn img"
      ],
      "metadata": {
        "id": "4rNPcMN9z3nF"
      },
      "execution_count": null,
      "outputs": []
    },
    {
      "cell_type": "code",
      "source": [
        "from google.colab import files\n",
        "uploaded = files.upload()"
      ],
      "metadata": {
        "id": "Gxzh3gg0z3ps"
      },
      "execution_count": null,
      "outputs": []
    },
    {
      "cell_type": "code",
      "source": [
        "from IPython.display import Image\n",
        "Image('5img.jpeg',width=250,height=250)"
      ],
      "metadata": {
        "id": "sxtUIUg3z3sc"
      },
      "execution_count": null,
      "outputs": []
    },
    {
      "cell_type": "code",
      "source": [
        "img = load_image('5img.jpeg')\n",
        "digit=new_model.predict(img)\n",
        "print('Predicted value : ',np.argmax(digit))"
      ],
      "metadata": {
        "id": "e9cvqMngz3uq"
      },
      "execution_count": null,
      "outputs": []
    },
    {
      "cell_type": "code",
      "source": [
        "rom google.colab import files\n",
        "uploaded = files.upload()"
      ],
      "metadata": {
        "id": "cBY0cMAez3xm"
      },
      "execution_count": null,
      "outputs": []
    },
    {
      "cell_type": "code",
      "source": [
        "from IPython.display import Image\n",
        "Image('4.jpg')"
      ],
      "metadata": {
        "id": "K9Z39Tfyz30L"
      },
      "execution_count": null,
      "outputs": []
    },
    {
      "cell_type": "code",
      "source": [
        "img = load_image('4.jpg')\n",
        "digit=model.predict(img)\n",
        "print(np.argmax(digit))"
      ],
      "metadata": {
        "id": "UyBoYd510PqU"
      },
      "execution_count": null,
      "outputs": []
    },
    {
      "cell_type": "code",
      "source": [
        "from google.colab import files\n",
        "uploaded = files.upload()"
      ],
      "metadata": {
        "id": "S8Ul5vor0Ptr"
      },
      "execution_count": null,
      "outputs": []
    },
    {
      "cell_type": "code",
      "source": [
        "model=tf.keras.models.load_model('project1.h5')"
      ],
      "metadata": {
        "id": "4qQkwoDm0Pzn"
      },
      "execution_count": null,
      "outputs": []
    }
  ]
}